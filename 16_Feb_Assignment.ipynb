{
 "cells": [
  {
   "cell_type": "markdown",
   "metadata": {},
   "source": [
    "Q1. What is a database? Differentiate between SQL and NoSQL databases."
   ]
  },
  {
   "cell_type": "markdown",
   "metadata": {},
   "source": [
    "|SQL                                                      |NoSQL                                                          |\n",
    "|---------------------------------------------------------|---------------------------------------------------------------|\n",
    "|RELATIONAL DATABASE MANAGEMENT SYSTEM (RDBMS)            |Non-relational or distributed database system                  |\n",
    "|---------------------------------------------------------|---------------------------------------------------------------|\n",
    "|SQL have a predefined schema                             |NoSQL use dynamic schema for unstructured data.                |\n",
    "|---------------------------------------------------------|---------------------------------------------------------------|\n",
    "|SQL are not suited for hierarchical data storage.        |NoSQL are best suited for hierarchical data storage.           |\n",
    "|---------------------------------------------------------|---------------------------------------------------------------|\n",
    "|SQL are best suited for complex queries                  |NoSQL are not so good for complex queries                      |  \n",
    "|---------------------------------------------------------|---------------------------------------------------------------|\n",
    "|SQL are table based databases                            |NoSQL can be document based, key-value pairs, graph databases  |\n",
    "|---------------------------------------------------------|---------------------------------------------------------------|\n",
    "|SQL databases are vertically scalable                    |NoSQL databases are horizontally scalable                      |\n",
    "|---------------------------------------------------------|---------------------------------------------------------------|\n",
    "|Follows ACID property                                    |Follows Base(Basically Available, Soft state, Eventually Consistent)| \n",
    "|---------------------------------------------------------|---------------------------------------------------------------|\n",
    "|Examples: MySQL, PostgreSQL, Oracle, MS-SQL Server, etc  |Examples: MongoDB, GraphQL, HBase, Neo4j, Cassandra, etc       |\n",
    "***"
   ]
  },
  {
   "cell_type": "markdown",
   "metadata": {},
   "source": [
    "Q2. What is DDL? Explain why CREATE, DROP, ALTER, and TRUNCATE are used with an example."
   ]
  },
  {
   "cell_type": "markdown",
   "metadata": {},
   "source": [
    "A data definition language (DDL) is a computer language used to create and modify the structure of database objects in a database\n",
    "\n",
    "These database objects include views, schemas, tables, indexes, etc. \n",
    " \n",
    "This term is also known as data description language in some contexts, as it describes the fields and records in a database table. \n",
    "***"
   ]
  },
  {
   "cell_type": "markdown",
   "metadata": {},
   "source": [
    "***Commonly used DDL in SQL querying are:***\n",
    "\n",
    "* CREATE\n",
    "\n",
    "* ALTER\n",
    "\n",
    "* DROP\n",
    "\n",
    "* TRUNCATE\n",
    "***"
   ]
  },
  {
   "cell_type": "markdown",
   "metadata": {},
   "source": [
    "**Create**\n",
    "\n",
    "This command builds a new table. \n",
    "\n",
    "Syntax :\n",
    "CREATE TABLE [table name] ([column definitions]) [table parameters];\n",
    "\n",
    "For example:\n",
    "\n",
    "CREATE TABLE Employee (Employee Id INTEGER PRIMARY KEY, First name CHAR (50) NULL, Last name CHAR (75) NOT NULL);\n",
    "***"
   ]
  },
  {
   "cell_type": "markdown",
   "metadata": {},
   "source": [
    "**ALTER**\n",
    "\n",
    "\n",
    "These command modifies an existing database table. This command can add up additional column, drop existing columns and even change the data type of columns involved in a database table.\n",
    "\n",
    "Syntax : ALTER object type object name parameters;\n",
    "\n",
    "For example:\n",
    "\n",
    "ALTER TABLE Employee ADD PRIMARY KEY (employee_pk);\n",
    "***"
   ]
  },
  {
   "cell_type": "markdown",
   "metadata": {},
   "source": [
    "**Drop**\n",
    "\n",
    "A drop command is used to delete objects such as a table, index or view. A DROP statement cannot be rolled back, so once an object is destroyed, there’s no way to recover it.\n",
    "\n",
    "Syntax :DROP object type object name;\n",
    "\n",
    "For example:\n",
    "\n",
    "DROP TABLE Employee;\n",
    "***"
   ]
  },
  {
   "cell_type": "markdown",
   "metadata": {},
   "source": [
    "**Truncate**\n",
    "\n",
    "TRUNCATE statement is used to quickly remove all records from a table. However, unlike DROP that completely destroys a table, TRUNCATE preserves its full structure to be reused later.\n",
    "\n",
    "Syntax : TRUNCATE TABLE table_name;\n",
    "\n",
    "For example:\n",
    "\n",
    "TRUNCATE TABLE employee;\n",
    "***"
   ]
  },
  {
   "cell_type": "markdown",
   "metadata": {},
   "source": [
    "Q3. What is DML? Explain INSERT, UPDATE, and DELETE with an example."
   ]
  },
  {
   "cell_type": "markdown",
   "metadata": {},
   "source": [
    "A data manipulation language (DML) is a computer languages. It including commands permitting users to manipulate data in a database.\n",
    "\n",
    "**This manipulation involves :**\n",
    "\n",
    "* Inserting data into database tables  (INSERT INTO)\n",
    "\n",
    "* Retrieving existing data             (SELECT)\n",
    "\n",
    "* Deleting data from existing tables   (DELETE FROM)\n",
    "\n",
    "* Modifying existing data              (UPDATE)\n",
    "***"
   ]
  },
  {
   "cell_type": "markdown",
   "metadata": {},
   "source": [
    "**SELECT**\n",
    "\n",
    "This command is used to retrieve rows from a table. \n",
    "\n",
    "Syntax: SELECT [column name(s)] from [table name] where [conditions].\n",
    "***"
   ]
  },
  {
   "cell_type": "markdown",
   "metadata": {},
   "source": [
    "**UPDATE**\n",
    "\n",
    "This command modifies data of one or more records. \n",
    "\n",
    "Syntax: UPDATE [table name] SET [column name = value] where [condition].\n",
    "***"
   ]
  },
  {
   "cell_type": "markdown",
   "metadata": {},
   "source": [
    "**INSERT**\n",
    "\n",
    "This command adds one or more records to a database table. \n",
    "\n",
    "Syntax: INSERT INTO [table name] [column(s)] VALUES [value(s)].\n",
    "***"
   ]
  },
  {
   "cell_type": "markdown",
   "metadata": {},
   "source": [
    "**DELETE** \n",
    "\n",
    "This command removes one or more records from a table according to specified conditions. \n",
    "\n",
    "Syntax: DELETE FROM [table name] where [condition].\n",
    "***"
   ]
  },
  {
   "cell_type": "markdown",
   "metadata": {},
   "source": [
    "Q4. What is DQL? Explain SELECT with an example."
   ]
  },
  {
   "cell_type": "markdown",
   "metadata": {},
   "source": [
    "The commands of SQL that are used to retrieve data from the database are collectively called DQL. So all Select statements come under DQL.\n",
    "\n",
    "select * from employee;\n",
    "\n",
    "select emp_id,emp_name,emp_add from employee;\n",
    "***"
   ]
  },
  {
   "cell_type": "markdown",
   "metadata": {},
   "source": [
    "Q5. Explain Primary Key and Foreign Key."
   ]
  },
  {
   "cell_type": "markdown",
   "metadata": {},
   "source": [
    "|Primary Key                                                       | Foreign Key                                           |\n",
    "|------------------------------------------------------------------|-------------------------------------------------------|\n",
    "|PRIMARY KEY constraint uniquely identifies each record in a table.| Foreign key used to build a relationship between the two tables        |\n",
    "|------------------------------------------------------------------|-------------------------------------------------------|\n",
    "|Primary keys can not be duplicated                                | Foreign Key can be duplicated                         |\n",
    "|------------------------------------------------------------------|-------------------------------------------------------|\n",
    "|Primary keys cannot contain NULL values.                          | Foreign Key can be null                               |\n",
    "|------------------------------------------------------------------|-------------------------------------------------------|\n",
    "|A table can have only ONE primary key                             | Foreign Key can have more than one foreign key in the table           |  \n",
    "|------------------------------------------------------------------|-------------------------------------------------------|\n",
    "|Primary key can consist of single or multiple columns             | Foreign key can consist of single or multiple columns (fields).\n",
    "|------------------------------------------------------------------|-------------------------------------------------------|\n",
    "|Primary key length cannot be exceeded than 900 bytes              | Foreign key length cannot be exceeded than 900 bytes  |\n",
    "|------------------------------------------------------------------|-------------------------------------------------------|"
   ]
  },
  {
   "cell_type": "markdown",
   "metadata": {},
   "source": [
    "Q6. Write a python code to connect MySQL to python. Explain the cursor() and execute() method."
   ]
  },
  {
   "cell_type": "markdown",
   "metadata": {},
   "source": [
    "cursor()\n",
    "\n",
    "A cursor is an object which helps to execute the query and fetch the records from the database. \n",
    "\n",
    "execute()\n",
    "\n",
    "The execute () method helps us to execute the query and return records according to the query."
   ]
  },
  {
   "cell_type": "code",
   "execution_count": 3,
   "metadata": {
    "scrolled": true
   },
   "outputs": [
    {
     "ename": "ModuleNotFoundError",
     "evalue": "No module named 'mysql'",
     "output_type": "error",
     "traceback": [
      "\u001b[1;31m---------------------------------------------------------------------------\u001b[0m",
      "\u001b[1;31mModuleNotFoundError\u001b[0m                       Traceback (most recent call last)",
      "\u001b[1;32m<ipython-input-3-f589adef9e85>\u001b[0m in \u001b[0;36m<module>\u001b[1;34m()\u001b[0m\n\u001b[0;32m      1\u001b[0m \u001b[1;31m#import the library\u001b[0m\u001b[1;33m\u001b[0m\u001b[1;33m\u001b[0m\u001b[0m\n\u001b[1;32m----> 2\u001b[1;33m \u001b[1;32mimport\u001b[0m \u001b[0mmysql\u001b[0m\u001b[1;33m.\u001b[0m\u001b[0mconnector\u001b[0m\u001b[1;33m\u001b[0m\u001b[0m\n\u001b[0m\u001b[0;32m      3\u001b[0m \u001b[1;33m\u001b[0m\u001b[0m\n\u001b[0;32m      4\u001b[0m \u001b[1;31m# creating connection\u001b[0m\u001b[1;33m\u001b[0m\u001b[1;33m\u001b[0m\u001b[0m\n\u001b[0;32m      5\u001b[0m conn = mysql.connector.connect(\n",
      "\u001b[1;31mModuleNotFoundError\u001b[0m: No module named 'mysql'"
     ]
    }
   ],
   "source": [
    "#import the library\n",
    "import mysql.connector\n",
    "\n",
    "# creating connection\n",
    "conn = mysql.connector.connect(\n",
    "  host=\"localhost\",\n",
    "  user=\"abc\",\n",
    "  password=\"password\",\n",
    "  database =\"dbTest\"\n",
    ")\n",
    "\n",
    "# import the cursor from the connection (conn)\n",
    "mycursor = conn.cursor()\n",
    "\n",
    "mycursor.execute(\"SELECT * FROM MOVIE\")\n",
    "# iterate over the result\n",
    "for row in mycursor:\n",
    "    print(row)\n",
    "\n",
    "# we close the cursor and conn both\n",
    "mycursor.close()\n",
    "conn.close()"
   ]
  },
  {
   "cell_type": "markdown",
   "metadata": {},
   "source": [
    "Q7. Give the order of execution of SQL clauses in an SQL query."
   ]
  },
  {
   "cell_type": "markdown",
   "metadata": {},
   "source": [
    "The SQL order of execution defines the order in which the clauses of a query are evaluated.\n",
    "\n",
    "SQL query order can help you diagnose why a query won’t run, and even more frequently \n",
    "will help you optimize your queries to run faster."
   ]
  },
  {
   "cell_type": "markdown",
   "metadata": {},
   "source": [
    "![order of execution](https://github.com/HusainSiddiqui/16_Feb_Assignment/blob/main/sql_order.png?raw=true)"
   ]
  }
 ],
 "metadata": {
  "kernelspec": {
   "display_name": "Python 3",
   "language": "python",
   "name": "python3"
  },
  "language_info": {
   "codemirror_mode": {
    "name": "ipython",
    "version": 3
   },
   "file_extension": ".py",
   "mimetype": "text/x-python",
   "name": "python",
   "nbconvert_exporter": "python",
   "pygments_lexer": "ipython3",
   "version": "3.6.5"
  }
 },
 "nbformat": 4,
 "nbformat_minor": 2
}
